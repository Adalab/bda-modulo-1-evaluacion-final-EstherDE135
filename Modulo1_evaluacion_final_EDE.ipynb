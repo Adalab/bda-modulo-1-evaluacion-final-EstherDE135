{
 "cells": [
  {
   "cell_type": "code",
   "execution_count": 34,
   "id": "08f1c2cc",
   "metadata": {},
   "outputs": [],
   "source": [
    "# Inventario a modo de lista que incluirá diccionarios con productos, clientes y ventas.\n",
    "inventario = []\n",
    "clientes = {}\n",
    "ventas_totales = float(0)\n"
   ]
  },
  {
   "cell_type": "code",
   "execution_count": 33,
   "id": "1e29d629",
   "metadata": {},
   "outputs": [],
   "source": [
    "#Creamos función para agregar un prodcuto al inventario o actualizar su cantidad si ya existe.\n",
    "def agregar_producto(nombre, precio, cantidad):\n",
    "    for producto in inventario: # Itera a través del inventario y compara los nombres de los productos con el nombre proporcionado.\n",
    "        if producto['nombre'] == nombre: \n",
    "            producto['cantidad'] += cantidad #Suma la cantidad si el producto ya existe en el inventario.\n",
    "            print(f\"El producto {nombre} ya existe. Ahora hay {producto['cantidad']} unidades.\")\n",
    "            return\n",
    "    nuevo_producto = {'nombre': nombre,'precio': precio, 'cantidad': cantidad}\n",
    "    inventario.append(nuevo_producto) #Si el producto no existe en el inventario, lo agregamos.\n",
    "    print(f\"Producto agregado: {nuevo_producto}\")\n",
    "        "
   ]
  },
  {
   "cell_type": "code",
   "execution_count": 34,
   "id": "f7638cb6",
   "metadata": {},
   "outputs": [
    {
     "name": "stdout",
     "output_type": "stream",
     "text": [
      "Producto agregado: {'nombre': 'camisa', 'precio': 20, 'cantidad': 40}\n"
     ]
    }
   ],
   "source": [
    "agregar_producto('camisa', 20, 40)"
   ]
  },
  {
   "cell_type": "code",
   "execution_count": 35,
   "id": "b9f5cc08",
   "metadata": {},
   "outputs": [
    {
     "name": "stdout",
     "output_type": "stream",
     "text": [
      "Producto agregado: {'nombre': 'pantalón', 'precio': 30, 'cantidad': 30}\n"
     ]
    }
   ],
   "source": [
    "agregar_producto('pantalón', 30, 30)"
   ]
  },
  {
   "cell_type": "code",
   "execution_count": 36,
   "id": "900c7e0e",
   "metadata": {},
   "outputs": [
    {
     "name": "stdout",
     "output_type": "stream",
     "text": [
      "Producto agregado: {'nombre': 'chaqueta', 'precio': 30, 'cantidad': 30}\n"
     ]
    }
   ],
   "source": [
    "agregar_producto('chaqueta', 30, 30)"
   ]
  },
  {
   "cell_type": "code",
   "execution_count": null,
   "id": "804df8f7",
   "metadata": {},
   "outputs": [
    {
     "name": "stdout",
     "output_type": "stream",
     "text": [
      "El producto camisa ya existe. Ahora hay 50 unidades.\n"
     ]
    }
   ],
   "source": [
    "agregar_producto('camisa', 20, 10)"
   ]
  },
  {
   "cell_type": "code",
   "execution_count": 10,
   "id": "860a89cf",
   "metadata": {},
   "outputs": [
    {
     "name": "stdout",
     "output_type": "stream",
     "text": [
      "[{'nombre': 'camisa', 'precio': 20, 'cantidad': 50}, {'nombre': 'pantalón', 'precio': 30, 'cantidad': 30}, {'nombre': 'chaqueta', 'precio': 30, 'cantidad': 30}]\n"
     ]
    }
   ],
   "source": [
    "print(inventario) #imprimiendo 'inventario' sí se ve la suma de unidades"
   ]
  },
  {
   "cell_type": "code",
   "execution_count": 11,
   "id": "8b140154",
   "metadata": {},
   "outputs": [],
   "source": [
    "def ver_inventario():\n",
    "    for producto in inventario: #Recorre el inventario\n",
    "        print(f\"Nombre: {producto['nombre']}, Precio: ${producto['precio']}, Cantidad: {producto['cantidad']}\")"
   ]
  },
  {
   "cell_type": "code",
   "execution_count": 12,
   "id": "f4f1708d",
   "metadata": {},
   "outputs": [
    {
     "name": "stdout",
     "output_type": "stream",
     "text": [
      "Nombre: camisa, Precio: $20, Cantidad: 50\n",
      "Nombre: pantalón, Precio: $30, Cantidad: 30\n",
      "Nombre: chaqueta, Precio: $30, Cantidad: 30\n"
     ]
    }
   ],
   "source": [
    "ver_inventario() # Para mostrar el inventario actual"
   ]
  },
  {
   "cell_type": "code",
   "execution_count": 38,
   "id": "7c98567d",
   "metadata": {},
   "outputs": [],
   "source": [
    "def buscar_producto(nombre):\n",
    "    for producto in inventario: # Recorre el inventario\n",
    "        if producto['nombre'].lower() == nombre.lower():  # Compara sin importar si mayúsculas o minúsculas\n",
    "            print(f\"Nombre: {producto['nombre']}, Precio: ${producto['precio']}, Cantidad: {producto['cantidad']}\")\n",
    "            return\n",
    "    print(f\"El producto '{nombre}' no se encuentra en el inventario.\")"
   ]
  },
  {
   "cell_type": "code",
   "execution_count": null,
   "id": "6e31ce70",
   "metadata": {},
   "outputs": [
    {
     "name": "stdout",
     "output_type": "stream",
     "text": [
      "El producto 'blusa' no se encuentra en el inventario.\n"
     ]
    }
   ],
   "source": [
    "buscar_producto('blusa')"
   ]
  },
  {
   "cell_type": "code",
   "execution_count": null,
   "id": "22fa6d03",
   "metadata": {},
   "outputs": [
    {
     "name": "stdout",
     "output_type": "stream",
     "text": [
      "Nombre: camisa, Precio: $20, Cantidad: 0\n"
     ]
    }
   ],
   "source": [
    "buscar_producto('camisa') #Se ajusta a 0 al ejecutar la línea de más abajo para actualizar el stock de camisas"
   ]
  },
  {
   "cell_type": "code",
   "execution_count": 17,
   "id": "27be4d18",
   "metadata": {},
   "outputs": [],
   "source": [
    "def actualizar_stock(nombre, cantidad):\n",
    "    for producto in inventario: # Recorre el inventario\n",
    "        if producto['nombre'].lower() == nombre.lower(): # De nuevo indicamos que no importe mayúsculas/minúsculas\n",
    "            producto['cantidad'] += cantidad\n",
    "            # Evita que la cantidad quede en negativo\n",
    "            if producto['cantidad'] < 0:\n",
    "                producto['cantidad'] = 0\n",
    "                print(f\"La cantidad de '{nombre}' no puede ser negativa. Se ha ajustado a 0.\")\n",
    "            else:\n",
    "                print(f\"Stock actualizado: {producto['nombre']} ahora tiene {producto['cantidad']} unidades.\")\n",
    "            return\n",
    "    print(f\"El producto '{nombre}' no se encuentra en el inventario.\")"
   ]
  },
  {
   "cell_type": "code",
   "execution_count": 18,
   "id": "71c77f93",
   "metadata": {},
   "outputs": [
    {
     "name": "stdout",
     "output_type": "stream",
     "text": [
      "Stock actualizado: pantalón ahora tiene 35 unidades.\n"
     ]
    }
   ],
   "source": [
    "actualizar_stock('pantalón', 5)"
   ]
  },
  {
   "cell_type": "code",
   "execution_count": 19,
   "id": "8c408e96",
   "metadata": {},
   "outputs": [
    {
     "name": "stdout",
     "output_type": "stream",
     "text": [
      "La cantidad de 'camisa' no puede ser negativa. Se ha ajustado a 0.\n"
     ]
    }
   ],
   "source": [
    "actualizar_stock('camisa', -60)"
   ]
  },
  {
   "cell_type": "code",
   "execution_count": 21,
   "id": "d1ddde0b",
   "metadata": {},
   "outputs": [
    {
     "name": "stdout",
     "output_type": "stream",
     "text": [
      "El producto 'zapatos' no se encuentra en el inventario.\n"
     ]
    }
   ],
   "source": [
    "actualizar_stock('zapatos', 10)"
   ]
  },
  {
   "cell_type": "code",
   "execution_count": 23,
   "id": "31af184a",
   "metadata": {},
   "outputs": [],
   "source": [
    "def eliminar_producto(nombre):\n",
    "    for producto in inventario: # Recorre el inventario\n",
    "        if producto['nombre'].lower() == nombre.lower():\n",
    "            inventario.remove(producto) # Elimina el producto del inventario si existe.\n",
    "            print(f\"Producto eliminado: {producto['nombre']}\")\n",
    "            return\n",
    "    print(f\"El producto '{nombre}' no se encuentra en el inventario.\") # Si el producto no esta en el inventario muestra un mensaje."
   ]
  },
  {
   "cell_type": "code",
   "execution_count": 25,
   "id": "3c36adea",
   "metadata": {},
   "outputs": [
    {
     "name": "stdout",
     "output_type": "stream",
     "text": [
      "Producto eliminado: chaqueta\n"
     ]
    }
   ],
   "source": [
    "eliminar_producto('chaqueta')"
   ]
  },
  {
   "cell_type": "code",
   "execution_count": 26,
   "id": "1fcecbdf",
   "metadata": {},
   "outputs": [
    {
     "name": "stdout",
     "output_type": "stream",
     "text": [
      "El producto 'sombrero' no se encuentra en el inventario.\n"
     ]
    }
   ],
   "source": [
    "eliminar_producto('sombrero')"
   ]
  },
  {
   "cell_type": "code",
   "execution_count": null,
   "id": "262625db",
   "metadata": {},
   "outputs": [],
   "source": [
    "def calcular_valor_inventario():\n",
    "    valor_total = 0 # Partimos de valor total 0\n",
    "    for producto in inventario: # Bucle que itera por el inventario\n",
    "        valor_producto = producto['precio'] * producto['cantidad'] # para calcular el valor del producto multiplicamos cantidad por precio unitario\n",
    "        valor_total += valor_producto # El valor total será el total del valor de cada producto\n",
    "    print(f\"El valor total del inventario es: ${valor_total}\")"
   ]
  },
  {
   "cell_type": "code",
   "execution_count": null,
   "id": "b6ddc675",
   "metadata": {},
   "outputs": [
    {
     "name": "stdout",
     "output_type": "stream",
     "text": [
      "El valor total del inventario es: $1050\n"
     ]
    }
   ],
   "source": [
    "calcular_valor_inventario() # A estas alturas, no tenemos camisas ni chaquetas. Solo quedan 35 pantalones a $30 la unidad."
   ]
  },
  {
   "cell_type": "code",
   "execution_count": 40,
   "id": "22a90d7a",
   "metadata": {},
   "outputs": [],
   "source": [
    "inventario = [{'nombre': 'Camisa', 'precio': 20, 'cantidad': 40}, {'nombre': 'Pantalón', 'precio': 30, 'cantidad': 30}, {'nombre': 'Chaqueta', 'precio': 30, 'cantidad': 30}]\n",
    "ventas_totales = float(0)\n",
    "\n",
    "def realizar_compra():\n",
    "    total_compra = float(0)  # Total que el cliente debe pagar\n",
    "    carrito = []        # Lista con los productos que el cliente va comprando\n",
    "\n",
    "    while True: # Bucle 'while' para permitir al cliente realizar múltiples compras\n",
    "        print(\"Disponible\")\n",
    "        for producto in inventario:\n",
    "            print(f\"Nombre: {producto['nombre']}, Precio: ${producto['precio']}, Cantidad: {producto['cantidad']}\")\n",
    "\n",
    "        nombre_producto = input(\"Indique el nombre del producto que desea comprar (o escriba 'terminar' para terminar compra): \").strip()\n",
    "        if nombre_producto.lower() == 'terminar': # Para terminar la compra\n",
    "            break\n",
    "\n",
    "        producto_encontrado = None # Buscar producto en inventario\n",
    "        for i in inventario:\n",
    "            if i['nombre'].lower() == nombre_producto.lower():\n",
    "                producto_encontrado = i\n",
    "                break\n",
    "\n",
    "        if not producto_encontrado: # Si el producto no se encuentra en el inventario\n",
    "            print(\"Producto no encontrado.\")\n",
    "            continue\n",
    "\n",
    "        try:\n",
    "            cantidad = int(input(\"Indique con un número la cantidad que quiere comprar: \"))\n",
    "            if cantidad > producto['cantidad']: # Comprueba si hay stock\n",
    "                print(\"No hay suficiente stock.\")\n",
    "                continue\n",
    "        except ValueError:\n",
    "            print(\"Debe escribir un número válido.\")\n",
    "            continue\n",
    "\n",
    "        subtotal = producto_encontrado['precio'] * cantidad # Calcula subtotal y debe actualizar el inventario\n",
    "        producto_encontrado['cantidad'] -= cantidad\n",
    "        total_compra += subtotal\n",
    "\n",
    "        carrito.append({'nombre': producto_encontrado['nombre'], 'precio': producto_encontrado['precio'], 'cantidad': cantidad})\n",
    "        # Registra los productos seleccionados en un carrito\n",
    "        print(f\"{cantidad} unidades de {producto['nombre']} agregadas al carrito. Subtotal: ${round(subtotal, 2)}\") #Limita a 2 decimales\n",
    "\n",
    "    print(f\"Importe total: ${round(total_compra, 2)}\")"
   ]
  },
  {
   "cell_type": "code",
   "execution_count": 41,
   "id": "8b1cd793",
   "metadata": {},
   "outputs": [
    {
     "name": "stdout",
     "output_type": "stream",
     "text": [
      "Disponible\n",
      "Nombre: Camisa, Precio: $20, Cantidad: 40\n",
      "Nombre: Pantalón, Precio: $30, Cantidad: 30\n",
      "Nombre: Chaqueta, Precio: $30, Cantidad: 30\n",
      "2 unidades de Chaqueta agregadas al carrito. Subtotal: $60\n",
      "Disponible\n",
      "Nombre: Camisa, Precio: $20, Cantidad: 40\n",
      "Nombre: Pantalón, Precio: $30, Cantidad: 30\n",
      "Nombre: Chaqueta, Precio: $30, Cantidad: 28\n",
      "Importe total: $60.0\n"
     ]
    }
   ],
   "source": [
    "realizar_compra()"
   ]
  },
  {
   "cell_type": "code",
   "execution_count": 30,
   "id": "9d52adeb",
   "metadata": {},
   "outputs": [],
   "source": [
    "# Me salto el punto 8 (voluntario), porque no sé si me dará tiempo, y paso al 9 (agregar cliente)\n",
    "def agregar_cliente(id_cliente, nombre, email):\n",
    "    # Comprueba si el cliente ya existe\n",
    "    if id_cliente not in clientes:\n",
    "        # Agrega al cliente con su nombre e email\n",
    "        clientes[id_cliente] = [nombre, email]\n",
    "        print(f\"El cliente '{nombre}' se ha agregado correctamente.\")\n",
    "    else:\n",
    "        print(f\"El cliente '{nombre}' ya está registrado.\")   "
   ]
  },
  {
   "cell_type": "code",
   "execution_count": 35,
   "id": "bd1a72a1",
   "metadata": {},
   "outputs": [
    {
     "name": "stdout",
     "output_type": "stream",
     "text": [
      "El cliente 'María' se ha agregado correctamente.\n"
     ]
    }
   ],
   "source": [
    "agregar_cliente(1, 'María', 'mari@fmail.com')"
   ]
  }
 ],
 "metadata": {
  "kernelspec": {
   "display_name": "Python 3.11.11 (Conda)",
   "language": "python",
   "name": "conda-311"
  },
  "language_info": {
   "codemirror_mode": {
    "name": "ipython",
    "version": 3
   },
   "file_extension": ".py",
   "mimetype": "text/x-python",
   "name": "python",
   "nbconvert_exporter": "python",
   "pygments_lexer": "ipython3",
   "version": "3.11.11"
  }
 },
 "nbformat": 4,
 "nbformat_minor": 5
}
